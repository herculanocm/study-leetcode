{
 "cells": [
  {
   "cell_type": "markdown",
   "id": "0048fb62-9244-45d7-aa74-ff6b65853112",
   "metadata": {},
   "source": [
    "Find the maximum value from list"
   ]
  },
  {
   "cell_type": "code",
   "execution_count": 3,
   "id": "9c259eef-447a-4170-89b8-6953d157c421",
   "metadata": {},
   "outputs": [],
   "source": [
    "def find_max_solution_1(arr):\n",
    "    max_values = arr[0]\n",
    "    for i in range(1, len(arr)):\n",
    "        if arr[i] > max_values:\n",
    "            max_values = arr[i]\n",
    "    return max_values"
   ]
  },
  {
   "cell_type": "code",
   "execution_count": 2,
   "id": "b53a4719-a264-4bd2-87ec-d3f70809d010",
   "metadata": {},
   "outputs": [],
   "source": [
    "def find_max_solution_2(arr):\n",
    "    return max(arr)"
   ]
  },
  {
   "cell_type": "code",
   "execution_count": 4,
   "id": "17d9e5b2-5b53-497c-943e-e3b9cee73b2d",
   "metadata": {},
   "outputs": [
    {
     "name": "stdout",
     "output_type": "stream",
     "text": [
      "Solution 1: 10\n",
      "Solution 2: 10\n"
     ]
    }
   ],
   "source": [
    "print(f'Solution 1: {find_max_solution_1([1, 2, 3, 4, 5, 6, 7, 8, 9, 10])}')\n",
    "print(f'Solution 2: {find_max_solution_2([1, 2, 3, 4, 5, 6, 7, 8, 9, 10])}')"
   ]
  }
 ],
 "metadata": {
  "kernelspec": {
   "display_name": "Python 3 (ipykernel)",
   "language": "python",
   "name": "python3"
  },
  "language_info": {
   "codemirror_mode": {
    "name": "ipython",
    "version": 3
   },
   "file_extension": ".py",
   "mimetype": "text/x-python",
   "name": "python",
   "nbconvert_exporter": "python",
   "pygments_lexer": "ipython3",
   "version": "3.11.6"
  }
 },
 "nbformat": 4,
 "nbformat_minor": 5
}
